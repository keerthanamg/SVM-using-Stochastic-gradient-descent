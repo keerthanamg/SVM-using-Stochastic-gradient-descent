{
  "nbformat": 4,
  "nbformat_minor": 0,
  "metadata": {
    "colab": {
      "provenance": [],
      "authorship_tag": "ABX9TyOrjEVJb5EunkNrvxRuaF57",
      "include_colab_link": true
    },
    "kernelspec": {
      "name": "python3",
      "display_name": "Python 3"
    },
    "language_info": {
      "name": "python"
    }
  },
  "cells": [
    {
      "cell_type": "markdown",
      "metadata": {
        "id": "view-in-github",
        "colab_type": "text"
      },
      "source": [
        "<a href=\"https://colab.research.google.com/github/keerthanamg/SVM-using-Stochastic-gradient-descent/blob/main/SVM_using_stochastic_gradient_descent.ipynb\" target=\"_parent\"><img src=\"https://colab.research.google.com/assets/colab-badge.svg\" alt=\"Open In Colab\"/></a>"
      ]
    },
    {
      "cell_type": "markdown",
      "source": [
        "WITHOUT SCALING THE VARIABLES\n"
      ],
      "metadata": {
        "id": "0TNLfeN9DU1g"
      }
    },
    {
      "cell_type": "code",
      "source": [
        "import os\n",
        "for dirname, _, filenames in os.walk('/kaggle/input'):\n",
        "for filename in filenames:\n",
        "print(os.path.join(dirname, filename))"
      ],
      "metadata": {
        "id": "cnRmayjxDgbz"
      },
      "execution_count": null,
      "outputs": []
    },
    {
      "cell_type": "code",
      "source": [
        "import numpy as np\n",
        "import pandas as pd"
      ],
      "metadata": {
        "id": "34hvQtO3DhMt"
      },
      "execution_count": null,
      "outputs": []
    },
    {
      "cell_type": "code",
      "source": [
        "import matplotlib.pyplot as pplt\n",
        "import seaborn as sns\n",
        "from pandas.plotting import scatter_matrix"
      ],
      "metadata": {
        "id": "6OlDIXRJDkYI"
      },
      "execution_count": null,
      "outputs": []
    },
    {
      "cell_type": "code",
      "source": [
        "from sklearn.model_selection import train_test_split"
      ],
      "metadata": {
        "id": "9BAVEftMDn4Z"
      },
      "execution_count": null,
      "outputs": []
    },
    {
      "cell_type": "code",
      "source": [
        "from sklearn.model_selection import KFold\n",
        "from sklearn.model_selection import cross_val_score"
      ],
      "metadata": {
        "id": "qz1pYPGcDr3v"
      },
      "execution_count": null,
      "outputs": []
    },
    {
      "cell_type": "code",
      "source": [
        "from sklearn import metrics\n",
        "import statsmodels.api as sm\n",
        "import sys\n",
        "import warnings\n",
        "%matplotlib inline"
      ],
      "metadata": {
        "id": "lne2RiOEDvBU"
      },
      "execution_count": null,
      "outputs": []
    },
    {
      "cell_type": "code",
      "source": [
        "if not sys.warnoptions:\n",
        "warnings.simplefilter(\"ignore\")"
      ],
      "metadata": {
        "id": "uOEv9OXtDytB"
      },
      "execution_count": null,
      "outputs": []
    },
    {
      "cell_type": "code",
      "source": [
        "salary_dataset = pd.read_csv('/Users/nivedha/Downloads/adult.csv')\n",
        "salary_dataset.info()\n",
        "salary_dataset.isnull().sum()"
      ],
      "metadata": {
        "id": "WDVwzatfD3ob"
      },
      "execution_count": null,
      "outputs": []
    },
    {
      "cell_type": "code",
      "source": [
        "df = pd.DataFrame(salary_dataset)\n",
        "df.column\n",
        "df.rename(columns={'capital-gain': 'capital gain', 'capital-loss': 'capital loss', 'native-country':\n",
        "'country','hours-per-week': 'hours per week','marital-status': 'marital'}, inplace=True)\n",
        "df.columns\n",
        "df.isin(['?']).sum(axis=0)"
      ],
      "metadata": {
        "id": "a3ieYIqtEXHS"
      },
      "execution_count": null,
      "outputs": []
    },
    {
      "cell_type": "code",
      "source": [
        "df.columns\n",
        "df['country'] = df['country'].replace('?',np.nan)\n",
        "df['workclass'] = df['workclass'].replace('?',np.nan)\n",
        "df['occupation'] = df['occupation'].replace('?',np.nan)"
      ],
      "metadata": {
        "id": "BpCXZpRwEcFT"
      },
      "execution_count": null,
      "outputs": []
    },
    {
      "cell_type": "code",
      "source": [
        "df.dropna(how='any',inplace=True)\n",
        "df.isin(['?']).sum(axis=0)"
      ],
      "metadata": {
        "id": "nATneEBuEsY5"
      },
      "execution_count": null,
      "outputs": []
    },
    {
      "cell_type": "code",
      "source": [
        "for c in df.columns:\n",
        "print (\"---- %s ---\" % c)\n",
        "print (df[c].value_counts())\n",
        "df.workclass.value_counts()\n",
        "df.occupation.value_counts()\n",
        "df.country.value_counts()\n",
        "df.drop(['educational-num','age', 'hours per week', 'fnlwgt', 'capital gain','capital loss', 'country'], axis=1,\n",
        "inplace=True)"
      ],
      "metadata": {
        "id": "-4aetPJyEwi6"
      },
      "execution_count": null,
      "outputs": []
    },
    {
      "cell_type": "code",
      "source": [
        "income = set(df['income'])\n",
        "print(income)"
      ],
      "metadata": {
        "id": "xz169wMeEzuF"
      },
      "execution_count": null,
      "outputs": []
    },
    {
      "cell_type": "code",
      "source": [
        "df['income'] = df['income'].map({'<=50K': 0, '>50K': 1}).astype(int)\n",
        "df.head()"
      ],
      "metadata": {
        "id": "sT619Ru9E2vF"
      },
      "execution_count": null,
      "outputs": []
    },
    {
      "cell_type": "code",
      "source": [
        "gender = set(df['gender'])\n",
        "print(gender)\n",
        "df['gender'] = df['gender'].map({'Male': 0, 'Female': 1}).astype(int)\n",
        "race = set(df['race'])\n",
        "print(race)\n",
        "df['race'] = df['race'].map({'Black': 0, 'Asian-Pac-Islander': 1, 'Other': 2, 'White': 3,\n",
        "'Amer-Indian-Eskimo': 4}).astype(int)"
      ],
      "metadata": {
        "id": "01FWnZayE6Md"
      },
      "execution_count": null,
      "outputs": []
    },
    {
      "cell_type": "code",
      "source": [
        "Marital = set(df['marital'])\n",
        "print(Marital)\n",
        "df['marital'] = df['marital'].map({'Married-spouse-absent': 0, 'Widowed': 1,\n",
        "'Married-civ-spouse': 2, 'Separated': 3, 'Divorced': 4,\n",
        "'Never-married': 5, 'Married-AF-spouse': 6}).astype(int)\n",
        "emp = set(df['workclass'])\n",
        "print(emp)\n",
        "df['workclass'] = df['workclass'].map({'Self-emp-inc': 0, 'State-gov': 1,\n",
        "'Federal-gov': 2, 'Without-pay': 3, 'Local-gov': 4,\n",
        "'Private': 5, 'Self-emp-not-inc': 6}).astype(int)\n",
        "ed = set(df['education'])\n",
        "print(ed)\n",
        "df['education'] = df['education'].map({'Some-college': 0, 'Preschool': 1,\n",
        "'5th-6th': 2, 'HS-grad': 3, 'Masters': 4,\n",
        "'12th': 5, '7th-8th': 6, 'Prof-school': 7,\n",
        "'1st-4th': 8, 'Assoc-acdm': 9,\n",
        "'Doctorate': 10, '11th': 11,\n",
        "'Bachelors': 12, '10th': 13,\n",
        "'Assoc-voc': 14,\n",
        "'9th': 15}).astype(int)\n",
        "occupation = set(df['occupation'])\n",
        "print(occupation)"
      ],
      "metadata": {
        "id": "KPFyvgQGE-Qr"
      },
      "execution_count": null,
      "outputs": []
    },
    {
      "cell_type": "code",
      "source": [
        "df['occupation'] = df['occupation'].map({ 'Farming-fishing': 1, 'Tech-support': 2,\n",
        "'Adm-clerical': 3, 'Handlers-cleaners': 4,\n",
        "'Prof-specialty': 5,'Machine-op-inspct': 6,\n",
        "'Exec-managerial': 7,\n",
        "'Priv-house-serv': 8,\n",
        "'Craft-repair': 9,\n",
        "'Sales': 10,\n",
        "'Transport-moving': 11,\n",
        "'Armed-Forces': 12,\n",
        "'Other-service': 13,\n",
        "'Protective-serv': 14}).astype(int)\n",
        "relationship = set(df['relationship'])\n",
        "print(relationship)\n",
        "df['relationship'] = df['relationship'].map({'Not-in-family': 0, 'Wife': 1,\n",
        "'Other-relative': 2,\n",
        "'Unmarried': 3,\n",
        "'Husband': 4,\n",
        "'Own-child': 5}).astype(int)\n",
        "df.head(10)"
      ],
      "metadata": {
        "id": "ryPyivaFFOrF"
      },
      "execution_count": null,
      "outputs": []
    },
    {
      "cell_type": "code",
      "source": [
        "df_x = pd.DataFrame(df)\n",
        "df_x = pd.DataFrame(np.c_[df['relationship'], df['education'],\n",
        "df['race'],df['occupation'],df['gender'],df['marital'],df['workclass']],\n",
        "columns = ['relationship','education','race','occupation','gender','marital','workclass'])\n",
        "df_y = pd.DataFrame(df.income)"
      ],
      "metadata": {
        "id": "-qp_gQFSFTBC"
      },
      "execution_count": null,
      "outputs": []
    },
    {
      "cell_type": "code",
      "source": [
        "X_train, X_test, y_train, y_test = train_test_split(df_x, df_y, test_size=0.1)\n",
        "import numpy as np\n",
        "import pandas as pd\n",
        "from pandas.api.types import is_string_dtype\n",
        "from pandas.api.types import is_numeric_dtype\n",
        "from sklearn import preprocessing\n",
        "from sklearn.model_selection import train_test_split\n",
        "from sklearn.utils import shuffle\n",
        "from sklearn.metrics import accuracy_score\n",
        "import matplotlib.pyplot as plt"
      ],
      "metadata": {
        "id": "OaUfki8ZFlLd"
      },
      "execution_count": null,
      "outputs": []
    },
    {
      "cell_type": "code",
      "source": [
        "def predict(a,b,X_test):\n",
        "z=np.zeros((len(X_test),1))\n",
        "for i in range(len(X_test)):\n",
        "if((np.dot(a,X_test[i].T)+b)>=0):\n",
        "z[i]=1\n",
        "else:\n",
        "z[i]=-1\n",
        "return z"
      ],
      "metadata": {
        "id": "rtKDozLPFsl-"
      },
      "execution_count": null,
      "outputs": []
    },
    {
      "cell_type": "code",
      "source": [
        "def start_gradient(X_train,y_train,regularization_constant_1,X_test):\n",
        "data=np.concatenate((X_train,y_train.values.reshape((y_train.shape[0],1))), axis=1)\n",
        "learning_rate = 0.001\n",
        "num_epochs = 50\n",
        "steps=300\n",
        "regularization_constant=regularization_constant_1\n",
        "a, b,accuracy_held,magnitude_vector = gd(data, learning_rate, num_epochs,regularization_constant,steps)\n",
        "#cost_1=cost(data, a, b,regularization_constant)\n",
        "X_test=scaler.transform(X_test)\n",
        "Y_pred=predict(a,b,X_test)\n",
        "accuracy=accuracy_score(y_test,Y_pred)"
      ],
      "metadata": {
        "id": "fPVDyXEfFxuN"
      },
      "execution_count": null,
      "outputs": []
    },
    {
      "cell_type": "code",
      "source": [
        "return(a,b,accuracy,accuracy_held,magnitude_vector)"
      ],
      "metadata": {
        "id": "l9QHXLWQGDRV"
      },
      "execution_count": null,
      "outputs": []
    },
    {
      "cell_type": "code",
      "source": [
        "def cost(points, a, b,regularization_constant):\n",
        "total_cost = 0\n",
        "M = len(points)\n",
        "for i in range(M):\n",
        "x = points[i,0:7]\n",
        "y = points[i,7]\n",
        "total_cost += (max(0,1-y*((np.dot(a,x.T))+b)))\n",
        "return (total_cost/M)+((regularization_constant/2)*(np.dot(a,a.T)))"
      ],
      "metadata": {
        "id": "PAN06_Y3GHO-"
      },
      "execution_count": null,
      "outputs": []
    },
    {
      "cell_type": "code",
      "source": [
        "def step_gradient(data, learning_rate, a , b,steps,regularization_constant,accuracy_held,magnitude_Vector):"
      ],
      "metadata": {
        "id": "i4NXR-RuLxPi"
      },
      "execution_count": null,
      "outputs": []
    },
    {
      "cell_type": "code",
      "source": [
        "data=shuffle(data,random_state=0)\n",
        "# shuffle the Data\n",
        "held=data[0:50,:]\n",
        "held_test=held[:,0:7]"
      ],
      "metadata": {
        "id": "iTp_Mh15L1bj"
      },
      "execution_count": null,
      "outputs": []
    },
    {
      "cell_type": "code",
      "source": [
        "M = len(data)\n",
        "size_of_batch=M\n",
        "k=0\n",
        "for i in range(steps):\n",
        "for j in range(size_of_batch*i,size_of_batch*(i+1)):"
      ],
      "metadata": {
        "id": "hECSZuzFL4RN"
      },
      "execution_count": null,
      "outputs": []
    },
    {
      "cell_type": "code",
      "source": [
        "a_slope = np.zeros((1,data.shape[1]-1))\n",
        "b_slope = 0\n",
        "x = data[j,0:7]\n",
        "y = data[j,7]"
      ],
      "metadata": {
        "id": "M0sq_6eVL7ZJ"
      },
      "execution_count": null,
      "outputs": []
    },
    {
      "cell_type": "code",
      "source": [
        "if ((y*(np.dot(a,x.T)+b))>=1):\n",
        "a_slope=a_slope+(regularization_constant*a)\n",
        "b_slope += 0\n",
        "else:\n",
        "a_slope+=(regularization_constant*a)-(y*x)\n",
        "b_slope +=-y"
      ],
      "metadata": {
        "id": "kCpdlQNaL-oT"
      },
      "execution_count": null,
      "outputs": []
    },
    {
      "cell_type": "code",
      "source": [
        "if(i>=29 and (i+1)%30==0):"
      ],
      "metadata": {
        "id": "o1tqeYr4MBt-"
      },
      "execution_count": null,
      "outputs": []
    },
    {
      "cell_type": "code",
      "source": [
        "Y_pred=predict(a,b,held_test)\n",
        "accuracy_held.append(accuracy_score(held[:,7],Y_pred))\n",
        "magnitude_Vector.append(np.linalg.norm(a))"
      ],
      "metadata": {
        "id": "h8YSRLLsME4I"
      },
      "execution_count": null,
      "outputs": []
    },
    {
      "cell_type": "code",
      "source": [
        "a = a - learning_rate*a_slope\n",
        "b = b - learning_rate*b_slope\n",
        "return a, b,accuracy_held,magnitude_Vector"
      ],
      "metadata": {
        "id": "Rqm-ZS8lMH8x"
      },
      "execution_count": null,
      "outputs": []
    },
    {
      "cell_type": "code",
      "source": [
        "def gd(data,learning_rate,num_epochs,regularization_constant,steps):\n",
        "a =np.zeros((1,data.shape[1]-1))\n",
        "b =0\n",
        "accuracy_held=[]\n",
        "magnitude_Vector=[]\n",
        "for i in range(num_epochs):\n",
        "a, b,accuracy_held,magnitude_vector_1= step_gradient(data, learning_rate, a ,\n",
        "b,steps,regularization_constant,accuracy_held,magnitude_Vector)\n",
        "learning_rate=learning_rate-(0.01*learning_rate)\n",
        "return(a,b,accuracy_held,magnitude_vector_1)"
      ],
      "metadata": {
        "id": "nm_mQovDMNgw"
      },
      "execution_count": null,
      "outputs": []
    },
    {
      "cell_type": "code",
      "source": [
        "regularization_constant=[1e-3, 1e-2, 1e-1, 1]\n",
        "accuracy_held_list=[]\n",
        "magnitude_vector_list=[]\n",
        "for i in range(len(regularization_constant)):"
      ],
      "metadata": {
        "id": "LlirsVz7NJOD"
      },
      "execution_count": null,
      "outputs": []
    },
    {
      "cell_type": "code",
      "source": [
        "a,b,accuraccy,accuracy_held,magnitude_vector=start_gradient(X_train,y_train,regularization_constant[i],X_test)\n",
        "accuracy_held_list.append(accuracy_held)\n",
        "magnitude_vector_list.append(magnitude_vector)\n",
        "print(\"The weight vector: \",a,\"The intercept term :\",b)\n",
        "print(\"Accuracy :\",accuraccy)\n",
        "X=list(range(30,15030,30))\n",
        "accuracy_held_l1=accuracy_held_list[0]\n",
        "accuracy_held_l2=accuracy_held_list[1]\n",
        "accuracy_held_l3=accuracy_held_list[2]\n",
        "accuracy_held_l4=accuracy_held_list[3]\n",
        "X=list(range(30,15030,30))\n",
        "magnitude_held_l1=magnitude_vector_list[0]\n",
        "magnitude_held_l2=magnitude_vector_list[1]\n",
        "magnitude_held_l3=magnitude_vector_list[2]\n",
        "magnitude_held_l4=magnitude_vector_list[3]"
      ],
      "metadata": {
        "id": "vdB7k07eNX0a"
      },
      "execution_count": null,
      "outputs": []
    },
    {
      "cell_type": "code",
      "source": [
        "plt.figure(figsize=(20,10))\n",
        "X=list(range(30,15030,30))\n",
        "plt.plot(X,accuracy_held_l1,'b',label='le-3')\n",
        "plt.plot(X,accuracy_held_l2,'r',label='le-2')\n",
        "plt.plot(X,accuracy_held_l3,'g',label='le-1')\n",
        "plt.plot(X,accuracy_held_l4,'m',label='1')\n",
        "plt.ylabel(\"Accuracy\")\n",
        "plt.xlabel(\"step count/After ever 30 steps\")\n",
        "plt.title(\"Accuracy vs step count\")\n",
        "plt.legend(fontsize=30)\n",
        "plt.show()"
      ],
      "metadata": {
        "id": "zBMv2yJbNewJ"
      },
      "execution_count": null,
      "outputs": []
    },
    {
      "cell_type": "code",
      "source": [
        "plt.figure(figsize=(20,10))\n",
        "X=list(range(30,15030,30))\n",
        "plt.plot(X,magnitude_held_l1,'b',label='le-3')\n",
        "plt.plot(X,magnitude_held_l2,'r',label='le-2')\n",
        "plt.plot(X,magnitude_held_l3,'g',label='le-1')\n",
        "plt.plot(X,magnitude_held_l4,'m',label='1')\n",
        "plt.ylabel(\"magnitude of Weight vector\")\n",
        "plt.xlabel(\"step count/After ever 30 steps\")\n",
        "plt.title(\"magnitude of weight vector vs step count\")\n",
        "plt.legend(fontsize=30)\n",
        "plt.show()"
      ],
      "metadata": {
        "id": "kqultiazNts0"
      },
      "execution_count": null,
      "outputs": []
    }
  ]
}